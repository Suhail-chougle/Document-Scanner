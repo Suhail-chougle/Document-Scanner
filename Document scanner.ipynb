{
 "cells": [
  {
   "cell_type": "markdown",
   "metadata": {},
   "source": [
    "# Importing libraries"
   ]
  },
  {
   "cell_type": "code",
   "execution_count": 1,
   "metadata": {},
   "outputs": [],
   "source": [
    "import cv2\n",
    "import numpy as np"
   ]
  },
  {
   "cell_type": "markdown",
   "metadata": {},
   "source": [
    "# Function to get the area of contours"
   ]
  },
  {
   "cell_type": "code",
   "execution_count": 2,
   "metadata": {},
   "outputs": [],
   "source": [
    "def get_contour_areas(contours):\n",
    "    # returns the areas of all contours as list\n",
    "    all_areas = []\n",
    "    for cnt in contours:\n",
    "        area = cv2.contourArea(cnt)\n",
    "        all_areas.append(area)\n",
    "    return all_areas"
   ]
  },
  {
   "cell_type": "markdown",
   "metadata": {},
   "source": [
    "# Importing image and pre-processing"
   ]
  },
  {
   "cell_type": "code",
   "execution_count": 3,
   "metadata": {},
   "outputs": [],
   "source": [
    "img = cv2.imread('doc.jpg')\n",
    "\n",
    "img2 = img.copy()\n",
    "\n",
    "gray_img = cv2.cvtColor(img, cv2.COLOR_BGR2GRAY)\n",
    "\n",
    "blurred_image = cv2.GaussianBlur(img, (5, 5), 0)\n",
    "                 \n",
    "canny = cv2.Canny(blurred_image, 100 ,  200) "
   ]
  },
  {
   "cell_type": "markdown",
   "metadata": {},
   "source": [
    "# Contours\n",
    "* Getting all the contours with their areas\n",
    "* Sorting the contours in descending order and drawing only the first(biggest) contour on the image\n",
    "* Getting the coordinates and height, width of our contour(x,y,w,h)"
   ]
  },
  {
   "cell_type": "code",
   "execution_count": 4,
   "metadata": {},
   "outputs": [],
   "source": [
    "contours, hierarchy = cv2.findContours(canny, cv2.RETR_TREE, cv2.CHAIN_APPROX_NONE)\n",
    "\n",
    "all_areas = get_contour_areas(contours)\n",
    "\n",
    "sorted_contours = sorted(contours, key=cv2.contourArea, reverse=True)     \n",
    "\n",
    "for c in sorted_contours:\n",
    "    #cv2.drawContours(img, [c], -1, (0,255,0), 2)\n",
    "    #cv2.drawContours(gray_img, [c], -1, (0,255,0), 2)\n",
    "    accuracy = 0.01 * cv2.arcLength(c, True)\n",
    "    approx = cv2.approxPolyDP(c, accuracy, True)\n",
    "    cv2.drawContours(img, [approx], 0, (0, 0, 0), 2)\n",
    "    x,y,w,h = cv2.boundingRect(c)\n",
    "    break"
   ]
  },
  {
   "cell_type": "markdown",
   "metadata": {},
   "source": [
    "# Getting the corners of the contour\n",
    "* Converting to HSV color format\n",
    "* Getting a mask of the black contour we drew on the image \n",
    "* Then we get the corners from the mask(max. of 4 corners)"
   ]
  },
  {
   "cell_type": "code",
   "execution_count": 5,
   "metadata": {},
   "outputs": [],
   "source": [
    "hsv_img = cv2.cvtColor(img, cv2.COLOR_BGR2HSV)\n",
    "\n",
    "lower_range = np.array([0,0,0])                   \n",
    "upper_range = np.array([0, 0,0])\n",
    " \n",
    "mask = cv2.inRange(hsv_img, lower_range, upper_range)\n",
    " \n",
    "corners = cv2.goodFeaturesToTrack(mask, 4, 0.5, 80) \n",
    "corners = np.int0(corners)                              "
   ]
  },
  {
   "cell_type": "markdown",
   "metadata": {},
   "source": [
    "# Making circles on the corners and numbering them for reference"
   ]
  },
  {
   "cell_type": "code",
   "execution_count": 6,
   "metadata": {},
   "outputs": [],
   "source": [
    "points = []\n",
    "i=1\n",
    "font = cv2.FONT_HERSHEY_SIMPLEX\n",
    "\n",
    "for corner in corners:\n",
    "    \n",
    "    x, y = corner.ravel()                               \n",
    "    cv2.circle(img, (x, y), 4, (0, 0, 255), -1)\n",
    "    cv2.putText(img, str(i), (x, y), font, 1, (0, 255, 255), 3, cv2.LINE_AA) \n",
    "    points.append((x,y))\n",
    "    i+=1"
   ]
  },
  {
   "cell_type": "markdown",
   "metadata": {},
   "source": [
    "# Arranging the coordinates prior to perspective transform\n",
    "* The corners used to perform perspective transform are in the order of (top left,top right,bottom left,bottom right)\n",
    "* The corners we detect from the contour will not necessarily be in this order\n",
    "* Hence we arrange them\n",
    "* If x and y are the coordinates of a point then\n",
    "* The sum of x and y of the top left corner will be minimum\n",
    "* Similarly the sum of x and y of the bottom right corner will be maximum\n",
    "* The difference between x and y will be positive for the top right corner and negative for the bottom left corner\n",
    "* Using this idea we arrange the coordinates for perspective transform"
   ]
  },
  {
   "cell_type": "code",
   "execution_count": 7,
   "metadata": {},
   "outputs": [],
   "source": [
    "ordered_points = []\n",
    "sum_list = []\n",
    "\n",
    "for x,y in points:\n",
    "    sum_list.append(x+y)\n",
    "\n",
    "zipped_lists = zip(sum_list, points)\n",
    "\n",
    "sorted_zipped_lists = sorted(zipped_lists)\n",
    "\n",
    "ordered_points = [element for _, element in sorted_zipped_lists]\n",
    "\n",
    "if ordered_points[1][0] - ordered_points[1][1] < 0:\n",
    "    temp = ordered_points[1]\n",
    "    ordered_points[1] = ordered_points[2]\n",
    "    ordered_points[2] = temp"
   ]
  },
  {
   "cell_type": "markdown",
   "metadata": {},
   "source": [
    "# Perspective Transfrom"
   ]
  },
  {
   "cell_type": "code",
   "execution_count": 8,
   "metadata": {},
   "outputs": [],
   "source": [
    "pts1 = np.float32([ [ordered_points[0][0],ordered_points[0][1]]\n",
    "                   ,[ordered_points[1][0],ordered_points[1][1]]\n",
    "                   ,[ordered_points[2][0],ordered_points[2][1]]\n",
    "                   ,[ordered_points[3][0],ordered_points[3][1]]  ])\n",
    "\n",
    "pts2 = np.float32([[0, 0], [w, 0], [0, h], [w, h]])   \n",
    "\n",
    "matrix = cv2.getPerspectiveTransform(pts1, pts2) \n",
    "non_scanned = cv2.warpPerspective(img2, matrix, (w, h))"
   ]
  },
  {
   "cell_type": "markdown",
   "metadata": {},
   "source": [
    "# Thresholding for scanning effect"
   ]
  },
  {
   "cell_type": "code",
   "execution_count": 9,
   "metadata": {},
   "outputs": [],
   "source": [
    "from skimage.filters import threshold_local\n",
    "\n",
    "scanned = cv2.cvtColor(non_scanned, cv2.COLOR_BGR2GRAY)\n",
    "T = threshold_local(scanned, 21, offset = 5, method = \"gaussian\")\n",
    "scanned = (scanned > T).astype(\"uint8\") * 255"
   ]
  },
  {
   "cell_type": "code",
   "execution_count": 10,
   "metadata": {},
   "outputs": [],
   "source": [
    "cv2.imshow(\"Scanned\", scanned)\n",
    "cv2.imshow(\"Non scanned\", non_scanned)\n",
    "cv2.imshow('image', img)\n",
    "cv2.imshow('canny', canny)\n",
    "cv2.imshow('mask', mask)\n",
    "    \n",
    "\n",
    "cv2.waitKey(0)\n",
    "cv2.destroyAllWindows()"
   ]
  }
 ],
 "metadata": {
  "kernelspec": {
   "display_name": "Python 3",
   "language": "python",
   "name": "python3"
  },
  "language_info": {
   "codemirror_mode": {
    "name": "ipython",
    "version": 3
   },
   "file_extension": ".py",
   "mimetype": "text/x-python",
   "name": "python",
   "nbconvert_exporter": "python",
   "pygments_lexer": "ipython3",
   "version": "3.8.5"
  }
 },
 "nbformat": 4,
 "nbformat_minor": 4
}
